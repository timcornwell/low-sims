{
 "cells": [
  {
   "cell_type": "markdown",
   "metadata": {},
   "source": [
    "## Model partition calibration example"
   ]
  },
  {
   "cell_type": "code",
   "execution_count": 1,
   "metadata": {
    "ExecuteTime": {
     "end_time": "2019-01-16T11:13:21.733978Z",
     "start_time": "2019-01-16T11:13:20.640673Z"
    },
    "scrolled": false
   },
   "outputs": [],
   "source": [
    "%matplotlib inline\n",
    "\n",
    "import sys\n",
    "\n",
    "from data_models.parameters import arl_path\n",
    "\n",
    "import numpy\n",
    "\n",
    "from astropy.coordinates import SkyCoord\n",
    "from astropy import units as u\n",
    "from astropy import constants as const\n",
    "from astropy.wcs.utils import pixel_to_skycoord\n",
    "\n",
    "from matplotlib import pyplot as plt\n",
    "from matplotlib import pylab as pylab\n",
    "\n",
    "from data_models.memory_data_models import SkyModel\n",
    "from data_models.polarisation import PolarisationFrame\n",
    "\n",
    "from processing_library.util.coordinate_support import simulate_point, skycoord_to_lmn\n",
    "\n",
    "from wrappers.serial.calibration.calibration_control import calibrate_function, create_calibration_controls\n",
    "from wrappers.serial.skycomponent.operations import find_skycomponents, partition_skycomponent_neighbours\n",
    "\n",
    "from wrappers.serial.visibility.base import create_blockvisibility, copy_visibility\n",
    "from processing_library.image.operations import copy_image\n",
    "from wrappers.serial.image.operations import show_image, qa_image\n",
    "from wrappers.serial.simulation.testing_support import create_named_configuration, \\\n",
    "    create_low_test_skycomponents_from_gleam, create_unittest_components\n",
    "from wrappers.serial.skycomponent.operations import filter_skycomponents_by_flux\n",
    "from wrappers.serial.simulation.mpc import create_gaintable_from_screen, sum_visibility_over_partitions, \\\n",
    "    calculate_sf_from_screen\n",
    "from wrappers.serial.skymodel.operations import show_skymodel\n",
    "\n",
    "from processing_components.simulation.mpc import expand_skymodel_by_skycomponents\n",
    "\n",
    "from wrappers.serial.imaging.primary_beams import create_low_test_beam\n",
    "from wrappers.serial.skycomponent.operations import apply_beam_to_skycomponent\n",
    "from wrappers.serial.imaging.base import create_image_from_visibility, advise_wide_field\n",
    "from wrappers.serial.image.operations import import_image_from_fits, export_image_to_fits\n",
    "\n",
    "from wrappers.arlexecute.visibility.coalesce import convert_blockvisibility_to_visibility\n",
    "from wrappers.arlexecute.skycomponent.operations import insert_skycomponent\n",
    "from wrappers.arlexecute.image.operations import smooth_image, show_components\n",
    "\n",
    "from workflows.arlexecute.pipelines.pipeline_arlexecute import continuum_imaging_list_arlexecute_workflow, \\\n",
    "    ical_list_arlexecute_workflow\n",
    "from workflows.serial.imaging.imaging_serial import invert_list_serial_workflow\n",
    "from workflows.serial.imaging.imaging_serial import weight_list_serial_workflow, taper_list_serial_workflow\n",
    "from workflows.serial.pipelines.pipeline_serial import continuum_imaging_list_serial_workflow, \\\n",
    "    ical_list_serial_workflow\n",
    "\n",
    "from data_models.data_model_helpers import import_blockvisibility_from_hdf5\n",
    "\n",
    "from wrappers.arlexecute.execution_support.arlexecute import arlexecute\n",
    "from wrappers.arlexecute.execution_support.dask_init import get_dask_Client"
   ]
  },
  {
   "cell_type": "code",
   "execution_count": 2,
   "metadata": {
    "ExecuteTime": {
     "end_time": "2019-01-16T11:13:22.850615Z",
     "start_time": "2019-01-16T11:13:22.843949Z"
    }
   },
   "outputs": [],
   "source": [
    "import logging\n",
    "def init_logging():\n",
    "    logging.basicConfig(filename='results/low-sims-mpc.log',\n",
    "                        filemode='a',\n",
    "                        format='%(asctime)s,%(msecs)d %(name)s %(levelname)s %(message)s',\n",
    "                        datefmt='%H:%M:%S',\n",
    "                        level=logging.DEBUG)\n",
    "\n",
    "init_logging()\n",
    "log = logging.getLogger()\n",
    "    \n",
    "def lprint(*args):\n",
    "    log.info(*args)\n",
    "    print(*args)"
   ]
  },
  {
   "cell_type": "code",
   "execution_count": 3,
   "metadata": {
    "ExecuteTime": {
     "end_time": "2019-01-16T11:13:24.345808Z",
     "start_time": "2019-01-16T11:13:24.341493Z"
    }
   },
   "outputs": [],
   "source": [
    "pylab.rcParams['figure.figsize'] = (14.0, 14.0)\n",
    "pylab.rcParams['image.cmap'] = 'rainbow'"
   ]
  },
  {
   "cell_type": "markdown",
   "metadata": {},
   "source": [
    "### Read the previously prepared observation: 10 minutes at transit, with 10s integration."
   ]
  },
  {
   "cell_type": "code",
   "execution_count": 10,
   "metadata": {
    "ExecuteTime": {
     "end_time": "2019-01-16T11:17:02.708000Z",
     "start_time": "2019-01-16T11:17:02.439944Z"
    }
   },
   "outputs": [],
   "source": [
    "rmax = 10000.0\n",
    "blockvis = import_blockvisibility_from_hdf5('results/low-sims-mpc-skymodel-noniso-blockvis_rmax10000.0.hdf5')\n",
    "from data_models.data_model_helpers import import_skycomponent_from_hdf5, import_gaintable_from_hdf5\n",
    "ical_deconvolved0 = \\\n",
    "    import_image_from_fits('results/low-sims-mpc-noniso-ical-deconvolved_rmax%.1f.fits' % rmax)\n",
    "gaintable = import_gaintable_from_hdf5('results/low-sims-mpc-noniso-ical-gaintable_rmax%.1f.hdf5' % rmax)\n",
    "ical_restored=import_image_from_fits('results/low-sims-mpc-noniso-ical-restored_rmax%.1f.fits' % rmax)"
   ]
  },
  {
   "cell_type": "code",
   "execution_count": 11,
   "metadata": {
    "ExecuteTime": {
     "end_time": "2019-01-16T11:17:03.956444Z",
     "start_time": "2019-01-16T11:17:03.943062Z"
    }
   },
   "outputs": [],
   "source": [
    "nfreqwin = len(blockvis.frequency)\n",
    "ntimes = len(blockvis.time)\n",
    "frequency = blockvis.frequency\n",
    "times = blockvis.time\n",
    "phasecentre = blockvis.phasecentre"
   ]
  },
  {
   "cell_type": "code",
   "execution_count": 17,
   "metadata": {
    "ExecuteTime": {
     "end_time": "2019-01-16T11:18:11.922286Z",
     "start_time": "2019-01-16T11:18:10.629218Z"
    }
   },
   "outputs": [
    {
     "name": "stdout",
     "output_type": "stream",
     "text": [
      "20\n",
      "Skycomponent:\n",
      "\tName: Segment 0\n",
      "\tFlux: [[4.56961174]]\n",
      "\tFrequency: [1.e+08]\n",
      "\tDirection: <SkyCoord (ICRS): (ra, dec) in deg\n",
      "    (1.50314734, -42.57625927)>\n",
      "\tShape: Point\n",
      "\tParams: {}\n",
      "\tPolarisation frame: stokesI\n",
      "\n"
     ]
    }
   ],
   "source": [
    "recovered_ical_components = find_skycomponents(ical_restored, fwhm=2, threshold=0.35, npixels=12)\n",
    "print(len(recovered_ical_components))\n",
    "print(recovered_ical_components[0])"
   ]
  },
  {
   "cell_type": "markdown",
   "metadata": {},
   "source": [
    "### Remove weaker of components that are too close (0.02 rad)"
   ]
  },
  {
   "cell_type": "code",
   "execution_count": 18,
   "metadata": {
    "ExecuteTime": {
     "end_time": "2019-01-16T11:18:17.440798Z",
     "start_time": "2019-01-16T11:18:17.265436Z"
    }
   },
   "outputs": [
    {
     "name": "stdout",
     "output_type": "stream",
     "text": [
      "20\n",
      "14\n"
     ]
    }
   ],
   "source": [
    "from wrappers.arlexecute.skycomponent.operations import remove_neighbouring_components, voronoi_decomposition\n",
    "idx, filtered_ical_components = remove_neighbouring_components(recovered_ical_components, 0.01)\n",
    "print(len(recovered_ical_components))\n",
    "print(len(filtered_ical_components))\n",
    "nsources=len(filtered_ical_components)"
   ]
  },
  {
   "cell_type": "code",
   "execution_count": 20,
   "metadata": {
    "ExecuteTime": {
     "end_time": "2019-01-16T11:20:44.314431Z",
     "start_time": "2019-01-16T11:19:27.379869Z"
    },
    "scrolled": false
   },
   "outputs": [],
   "source": [
    "vor, vor_array = voronoi_decomposition(ical_restored, filtered_ical_components)\n",
    "vor_image = copy_image(ical_restored)\n",
    "vor_image.data[...] = vor_array"
   ]
  },
  {
   "cell_type": "code",
   "execution_count": 21,
   "metadata": {
    "ExecuteTime": {
     "end_time": "2019-01-16T11:20:46.404742Z",
     "start_time": "2019-01-16T11:20:44.315977Z"
    },
    "scrolled": false
   },
   "outputs": [
    {
     "data": {
      "image/png": "[encoded data removed]",
      "text/plain": [
       "<Figure size 1008x1008 with 2 Axes>"
      ]
     },
     "metadata": {},
     "output_type": "display_data"
    }
   ],
   "source": [
    "show_image(\n",
    "    vor_image,\n",
    "    components=filtered_ical_components,\n",
    "    cm='Greys',\n",
    "    title='Voronoi partitioning',\n",
    "    vmax = 3 * numpy.max(vor_array))\n",
    "\n",
    "plt.savefig('results/low-sims-mpc-skymodel-voronoi_%dsources_rmax%.1f.jpg' % (nsources, rmax))\n",
    "plt.show()"
   ]
  },
  {
   "cell_type": "markdown",
   "metadata": {
    "ExecuteTime": {
     "end_time": "2019-01-04T14:02:36.740636Z",
     "start_time": "2019-01-04T14:02:36.736655Z"
    }
   },
   "source": [
    "### Initialization phase\n",
    "#### Construct the skymodels, $\\theta_p^{(0)}$, based on the Voronoi decomposition of the components. Each skymodel will contain a mask based on the decomposition, an image and gaintable derived from ICAL"
   ]
  },
  {
   "cell_type": "code",
   "execution_count": 22,
   "metadata": {
    "ExecuteTime": {
     "end_time": "2019-01-16T11:36:49.860172Z",
     "start_time": "2019-01-16T11:35:26.364399Z"
    },
    "scrolled": false
   },
   "outputs": [],
   "source": [
    "iteration=0\n",
    "from wrappers.arlexecute.skymodel.operations import initialize_skymodel_voronoi\n",
    "theta_list=initialize_skymodel_voronoi(ical_deconvolved0, filtered_ical_components, gt=gaintable)\n",
    "from data_models.data_model_helpers import export_skymodel_to_hdf5\n",
    "export_skymodel_to_hdf5(theta_list, \"results/low-sims-mpc-skymodel_%dsources_iteration%d_rmax%.1f.hdf5\" % (nsources, iteration, rmax))"
   ]
  },
  {
   "cell_type": "code",
   "execution_count": null,
   "metadata": {},
   "outputs": [],
   "source": []
  }
 ],
 "metadata": {
  "kernelspec": {
   "display_name": "Python 3",
   "language": "python",
   "name": "python3"
  },
  "language_info": {
   "codemirror_mode": {
    "name": "ipython",
    "version": 3
   },
   "file_extension": ".py",
   "mimetype": "text/x-python",
   "name": "python",
   "nbconvert_exporter": "python",
   "pygments_lexer": "ipython3",
   "version": "3.6.3"
  }
 },
 "nbformat": 4,
 "nbformat_minor": 2
}
