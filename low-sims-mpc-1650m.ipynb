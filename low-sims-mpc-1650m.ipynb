{
 "cells": [
  {
   "cell_type": "markdown",
   "metadata": {},
   "source": [
    "## Simulate non-isoplanatic imaging for LOW at 100MHz.\n",
    "\n",
    "### A set of model components are drawn from GLEAM. An ionospheric screen model is used to calculate the pierce points of the two stations in an interferometer for a given component. The model visibilities are calculated directly, and screen phase applied to obtain the corrupted visibility."
   ]
  },
  {
   "cell_type": "code",
   "execution_count": 1,
   "metadata": {
    "ExecuteTime": {
     "end_time": "2018-12-10T10:15:26.126636Z",
     "start_time": "2018-12-10T10:15:23.996780Z"
    },
    "scrolled": false
   },
   "outputs": [
    {
     "name": "stderr",
     "output_type": "stream",
     "text": [
      "WARNING: AstropyDeprecationWarning: \"iters\" was deprecated in version 3.1 and will be removed in a future version. Use argument \"maxiters\" instead. [photutils.background.core]\n",
      "WARNING: AstropyDeprecationWarning: \"iters\" was deprecated in version 3.1 and will be removed in a future version. Use argument \"maxiters\" instead. [photutils.background.core]\n",
      "WARNING: AstropyDeprecationWarning: \"iters\" was deprecated in version 3.1 and will be removed in a future version. Use argument \"maxiters\" instead. [photutils.background.background_2d]\n"
     ]
    }
   ],
   "source": [
    "%matplotlib inline\n",
    "\n",
    "import sys\n",
    "\n",
    "from data_models.parameters import arl_path\n",
    "\n",
    "import numpy\n",
    "\n",
    "from astropy.coordinates import SkyCoord\n",
    "from astropy import units as u\n",
    "from astropy import constants as const\n",
    "from astropy.wcs.utils import pixel_to_skycoord\n",
    "\n",
    "from matplotlib import pyplot as plt\n",
    "from matplotlib import pylab as pylab\n",
    "\n",
    "from data_models.memory_data_models import SkyModel\n",
    "from data_models.polarisation import PolarisationFrame\n",
    "\n",
    "from processing_library.util.coordinate_support import simulate_point, skycoord_to_lmn\n",
    "\n",
    "from wrappers.serial.calibration.calibration_control import calibrate_function, create_calibration_controls\n",
    "from wrappers.serial.skycomponent.operations import find_skycomponents\n",
    "from wrappers.serial.visibility.base import create_blockvisibility, copy_visibility\n",
    "from processing_library.image.operations import copy_image\n",
    "from wrappers.serial.image.operations import show_image, qa_image\n",
    "from wrappers.serial.simulation.testing_support import create_named_configuration, \\\n",
    "    create_low_test_skycomponents_from_gleam, create_unittest_components\n",
    "from wrappers.serial.skycomponent.operations import filter_skycomponents_by_flux\n",
    "from wrappers.serial.simulation.mpc import create_gaintable_from_screen, sum_visibility_over_partitions\n",
    "\n",
    "from processing_components.simulation.mpc import expand_skymodel_by_skycomponents\n",
    "\n",
    "from wrappers.serial.imaging.primary_beams import create_low_test_beam\n",
    "from wrappers.serial.skycomponent.operations import apply_beam_to_skycomponent\n",
    "from wrappers.serial.imaging.base import create_image_from_visibility, advise_wide_field\n",
    "from wrappers.serial.image.operations import import_image_from_fits, export_image_to_fits\n",
    "from wrappers.arlexecute.visibility.coalesce import convert_blockvisibility_to_visibility\n",
    "from wrappers.arlexecute.skycomponent.operations import insert_skycomponent\n",
    "from wrappers.arlexecute.image.operations import smooth_image\n",
    "\n",
    "from workflows.arlexecute.pipelines.pipeline_arlexecute import continuum_imaging_list_arlexecute_workflow, \\\n",
    "    ical_list_arlexecute_workflow\n",
    "from workflows.arlexecute.skymodel.skymodel_arlexecute import predictcal_skymodel_list_arlexecute_workflow\n",
    "from workflows.serial.imaging.imaging_serial import invert_list_serial_workflow\n",
    "from workflows.serial.imaging.imaging_serial import weight_list_serial_workflow, taper_list_serial_workflow\n",
    "from workflows.serial.pipelines.pipeline_serial import continuum_imaging_list_serial_workflow, \\\n",
    "    ical_list_serial_workflow\n",
    "\n",
    "from data_models.data_model_helpers import export_blockvisibility_to_hdf5\n",
    "\n",
    "from wrappers.arlexecute.execution_support.arlexecute import arlexecute\n",
    "from wrappers.arlexecute.execution_support.dask_init import get_dask_Client\n",
    "\n"
   ]
  },
  {
   "cell_type": "code",
   "execution_count": 2,
   "metadata": {
    "ExecuteTime": {
     "end_time": "2018-12-10T10:15:26.137662Z",
     "start_time": "2018-12-10T10:15:26.128834Z"
    }
   },
   "outputs": [],
   "source": [
    "import logging\n",
    "def init_logging():\n",
    "    logging.basicConfig(filename='low-sims-mpc.log',\n",
    "                        filemode='a',\n",
    "                        format='%(asctime)s,%(msecs)d %(name)s %(levelname)s %(message)s',\n",
    "                        datefmt='%H:%M:%S',\n",
    "                        level=logging.DEBUG)\n",
    "\n",
    "init_logging()\n",
    "log = logging.getLogger()\n",
    "    \n",
    "def lprint(*args):\n",
    "    log.info(*args)\n",
    "    print(*args)"
   ]
  },
  {
   "cell_type": "code",
   "execution_count": 3,
   "metadata": {
    "ExecuteTime": {
     "end_time": "2018-12-10T10:15:26.145402Z",
     "start_time": "2018-12-10T10:15:26.141544Z"
    }
   },
   "outputs": [],
   "source": [
    "pylab.rcParams['figure.figsize'] = (14.0, 14.0)\n",
    "pylab.rcParams['image.cmap'] = 'rainbow'"
   ]
  },
  {
   "cell_type": "code",
   "execution_count": 4,
   "metadata": {
    "ExecuteTime": {
     "end_time": "2018-12-10T10:15:28.420274Z",
     "start_time": "2018-12-10T10:15:26.148328Z"
    }
   },
   "outputs": [
    {
     "name": "stderr",
     "output_type": "stream",
     "text": [
      "/Users/timcornwell/anaconda/envs/arlenv/lib/python3.6/site-packages/distributed/bokeh/core.py:55: UserWarning: \n",
      "Port 8787 is already in use. \n",
      "Perhaps you already have a cluster running?\n",
      "Hosting the diagnostics dashboard on a random port instead.\n",
      "  warnings.warn('\\n' + msg)\n"
     ]
    },
    {
     "name": "stdout",
     "output_type": "stream",
     "text": [
      "Creating LocalCluster and Dask Client\n",
      "Diagnostic pages available on port http://127.0.0.1:57698\n"
     ]
    },
    {
     "data": {
      "text/plain": [
       "{'tcp://127.0.0.1:57716': None}"
      ]
     },
     "execution_count": 4,
     "metadata": {},
     "output_type": "execute_result"
    }
   ],
   "source": [
    "c = get_dask_Client(\n",
    "    memory_limit=32 * 1024 * 1024 * 1024, threads_per_worker=8, n_workers=1)\n",
    "arlexecute.set_client(c)\n",
    "# Initialise logging on the workers. This appears to only work using the process scheduler.\n",
    "arlexecute.run(init_logging)"
   ]
  },
  {
   "cell_type": "markdown",
   "metadata": {},
   "source": [
    "### Set up the observation: 10 minutes at transit, with 10s integration."
   ]
  },
  {
   "cell_type": "code",
   "execution_count": 5,
   "metadata": {
    "ExecuteTime": {
     "end_time": "2018-12-10T10:15:38.644029Z",
     "start_time": "2018-12-10T10:15:28.423899Z"
    }
   },
   "outputs": [],
   "source": [
    "nfreqwin = 1\n",
    "ntimes = 61\n",
    "rmax = 1650.0\n",
    "dec = -55.0 * u.deg\n",
    "frequency = numpy.linspace(1e8, 1.3e8, nfreqwin)\n",
    "if nfreqwin > 1:\n",
    "    channel_bandwidth = numpy.array(nfreqwin * [frequency[1] - frequency[0]])\n",
    "else:\n",
    "    channel_bandwidth = [0.3e8]\n",
    "times = numpy.linspace(-300, 300.0, ntimes) * numpy.pi / (3600.0 * 12.0)\n",
    "\n",
    "phasecentre = SkyCoord(ra=+0.0 * u.deg, dec=dec, frame='icrs', equinox='J2000')\n",
    "lowcore = create_named_configuration('LOWBD2', rmax=rmax)\n",
    "\n",
    "blockvis = create_blockvisibility(\n",
    "    lowcore,\n",
    "    times,\n",
    "    frequency=frequency,\n",
    "    channel_bandwidth=channel_bandwidth,\n",
    "    weight=1.0,\n",
    "    phasecentre=phasecentre,\n",
    "    polarisation_frame=PolarisationFrame(\"stokesI\"),\n",
    "    zerow=True)"
   ]
  },
  {
   "cell_type": "markdown",
   "metadata": {},
   "source": [
    "### Find sampling, image size, etc"
   ]
  },
  {
   "cell_type": "code",
   "execution_count": 6,
   "metadata": {
    "ExecuteTime": {
     "end_time": "2018-12-10T10:15:53.208775Z",
     "start_time": "2018-12-10T10:15:38.647312Z"
    },
    "scrolled": false
   },
   "outputs": [
    {
     "name": "stderr",
     "output_type": "stream",
     "text": [
      "distributed.nanny - WARNING - Restarting worker\n",
      "distributed.nanny - ERROR - Failed to restart worker after its process exited\n",
      "Traceback (most recent call last):\n",
      "  File \"/Users/timcornwell/anaconda/envs/arlenv/lib/python3.6/site-packages/distributed/nanny.py\", line 291, in _on_exit\n",
      "    yield self.instantiate()\n",
      "  File \"/Users/timcornwell/anaconda/envs/arlenv/lib/python3.6/site-packages/tornado/gen.py\", line 1099, in run\n",
      "    value = future.result()\n",
      "  File \"/Users/timcornwell/anaconda/envs/arlenv/lib/python3.6/site-packages/tornado/gen.py\", line 1107, in run\n",
      "    yielded = self.gen.throw(*exc_info)\n",
      "  File \"/Users/timcornwell/anaconda/envs/arlenv/lib/python3.6/site-packages/distributed/nanny.py\", line 226, in instantiate\n",
      "    self.process.start()\n",
      "  File \"/Users/timcornwell/anaconda/envs/arlenv/lib/python3.6/site-packages/tornado/gen.py\", line 1099, in run\n",
      "    value = future.result()\n",
      "  File \"/Users/timcornwell/anaconda/envs/arlenv/lib/python3.6/site-packages/tornado/gen.py\", line 1107, in run\n",
      "    yielded = self.gen.throw(*exc_info)\n",
      "  File \"/Users/timcornwell/anaconda/envs/arlenv/lib/python3.6/site-packages/distributed/nanny.py\", line 370, in start\n",
      "    yield self.process.start()\n",
      "  File \"/Users/timcornwell/anaconda/envs/arlenv/lib/python3.6/site-packages/tornado/gen.py\", line 1099, in run\n",
      "    value = future.result()\n",
      "  File \"/Users/timcornwell/anaconda/envs/arlenv/lib/python3.6/site-packages/distributed/process.py\", line 35, in _call_and_set_future\n",
      "    res = func(*args, **kwargs)\n",
      "  File \"/Users/timcornwell/anaconda/envs/arlenv/lib/python3.6/site-packages/distributed/process.py\", line 184, in _start\n",
      "    process.start()\n",
      "  File \"/Users/timcornwell/anaconda/envs/arlenv/lib/python3.6/multiprocessing/process.py\", line 105, in start\n",
      "    self._popen = self._Popen(self)\n",
      "  File \"/Users/timcornwell/anaconda/envs/arlenv/lib/python3.6/multiprocessing/context.py\", line 291, in _Popen\n",
      "    return Popen(process_obj)\n",
      "  File \"/Users/timcornwell/anaconda/envs/arlenv/lib/python3.6/multiprocessing/popen_forkserver.py\", line 35, in __init__\n",
      "    super().__init__(process_obj)\n",
      "  File \"/Users/timcornwell/anaconda/envs/arlenv/lib/python3.6/multiprocessing/popen_fork.py\", line 20, in __init__\n",
      "    self._launch(process_obj)\n",
      "  File \"/Users/timcornwell/anaconda/envs/arlenv/lib/python3.6/multiprocessing/popen_forkserver.py\", line 51, in _launch\n",
      "    self.sentinel, w = forkserver.connect_to_new_process(self._fds)\n",
      "  File \"/Users/timcornwell/anaconda/envs/arlenv/lib/python3.6/multiprocessing/forkserver.py\", line 66, in connect_to_new_process\n",
      "    client.connect(self._forkserver_address)\n",
      "ConnectionRefusedError: [Errno 61] Connection refused\n"
     ]
    },
    {
     "ename": "KeyboardInterrupt",
     "evalue": "",
     "output_type": "error",
     "traceback": [
      "\u001b[0;31m---------------------------------------------------------------------------\u001b[0m",
      "\u001b[0;31mKeyboardInterrupt\u001b[0m                         Traceback (most recent call last)",
      "\u001b[0;32m<ipython-input-6-203af043f0ad>\u001b[0m in \u001b[0;36m<module>\u001b[0;34m()\u001b[0m\n\u001b[1;32m      1\u001b[0m \u001b[0mwprojection_planes\u001b[0m \u001b[0;34m=\u001b[0m \u001b[0;36m1\u001b[0m\u001b[0;34m\u001b[0m\u001b[0m\n\u001b[0;32m----> 2\u001b[0;31m \u001b[0mvis\u001b[0m \u001b[0;34m=\u001b[0m \u001b[0mconvert_blockvisibility_to_visibility\u001b[0m\u001b[0;34m(\u001b[0m\u001b[0mblockvis\u001b[0m\u001b[0;34m)\u001b[0m\u001b[0;34m\u001b[0m\u001b[0m\n\u001b[0m\u001b[1;32m      3\u001b[0m \u001b[0madvice\u001b[0m \u001b[0;34m=\u001b[0m \u001b[0madvise_wide_field\u001b[0m\u001b[0;34m(\u001b[0m\u001b[0mvis\u001b[0m\u001b[0;34m,\u001b[0m \u001b[0mguard_band_image\u001b[0m\u001b[0;34m=\u001b[0m\u001b[0;36m2.0\u001b[0m\u001b[0;34m,\u001b[0m \u001b[0mdelA\u001b[0m\u001b[0;34m=\u001b[0m\u001b[0;36m0.02\u001b[0m\u001b[0;34m)\u001b[0m\u001b[0;34m\u001b[0m\u001b[0m\n\u001b[1;32m      4\u001b[0m \u001b[0;34m\u001b[0m\u001b[0m\n\u001b[1;32m      5\u001b[0m \u001b[0mcellsize\u001b[0m \u001b[0;34m=\u001b[0m \u001b[0madvice\u001b[0m\u001b[0;34m[\u001b[0m\u001b[0;34m'cellsize'\u001b[0m\u001b[0;34m]\u001b[0m\u001b[0;34m\u001b[0m\u001b[0m\n",
      "\u001b[0;32m~/Code/algorithm-reference-library/processing_components/visibility/coalesce.py\u001b[0m in \u001b[0;36mconvert_blockvisibility_to_visibility\u001b[0;34m(vis)\u001b[0m\n\u001b[1;32m     93\u001b[0m     \u001b[0mcvis\u001b[0m\u001b[0;34m,\u001b[0m \u001b[0mcuvw\u001b[0m\u001b[0;34m,\u001b[0m \u001b[0mcwts\u001b[0m\u001b[0;34m,\u001b[0m \u001b[0mctime\u001b[0m\u001b[0;34m,\u001b[0m \u001b[0mcfrequency\u001b[0m\u001b[0;34m,\u001b[0m \u001b[0mcchannel_bandwidth\u001b[0m\u001b[0;34m,\u001b[0m \u001b[0mca1\u001b[0m\u001b[0;34m,\u001b[0m \u001b[0mca2\u001b[0m\u001b[0;34m,\u001b[0m \u001b[0mcintegration_time\u001b[0m\u001b[0;34m,\u001b[0m \u001b[0mcindex\u001b[0m\u001b[0;31m \u001b[0m\u001b[0;31m\\\u001b[0m\u001b[0;34m\u001b[0m\u001b[0m\n\u001b[1;32m     94\u001b[0m         = convert_blocks(vis.data['vis'], vis.data['uvw'], vis.data['weight'], vis.time, vis.integration_time,\n\u001b[0;32m---> 95\u001b[0;31m                          vis.frequency, vis.channel_bandwidth)\n\u001b[0m\u001b[1;32m     96\u001b[0m     \u001b[0mcimwt\u001b[0m \u001b[0;34m=\u001b[0m \u001b[0mnumpy\u001b[0m\u001b[0;34m.\u001b[0m\u001b[0mones\u001b[0m\u001b[0;34m(\u001b[0m\u001b[0mcvis\u001b[0m\u001b[0;34m.\u001b[0m\u001b[0mshape\u001b[0m\u001b[0;34m)\u001b[0m\u001b[0;34m\u001b[0m\u001b[0m\n\u001b[1;32m     97\u001b[0m     converted_vis = Visibility(uvw=cuvw, time=ctime, frequency=cfrequency,\n",
      "\u001b[0;32m~/Code/algorithm-reference-library/processing_components/visibility/coalesce.py\u001b[0m in \u001b[0;36mconvert_blocks\u001b[0;34m(vis, uvw, wts, times, integration_time, frequency, channel_bandwidth)\u001b[0m\n\u001b[1;32m    324\u001b[0m                     \u001b[0mcintegration_time\u001b[0m\u001b[0;34m[\u001b[0m\u001b[0mrow\u001b[0m\u001b[0;34m]\u001b[0m \u001b[0;34m=\u001b[0m \u001b[0mintegration_time\u001b[0m\u001b[0;34m[\u001b[0m\u001b[0mitime\u001b[0m\u001b[0;34m]\u001b[0m\u001b[0;34m\u001b[0m\u001b[0m\n\u001b[1;32m    325\u001b[0m                     \u001b[0mcchannel_bandwidth\u001b[0m\u001b[0;34m[\u001b[0m\u001b[0mrow\u001b[0m\u001b[0;34m]\u001b[0m \u001b[0;34m=\u001b[0m \u001b[0mchannel_bandwidth\u001b[0m\u001b[0;34m[\u001b[0m\u001b[0mchan\u001b[0m\u001b[0;34m]\u001b[0m\u001b[0;34m\u001b[0m\u001b[0m\n\u001b[0;32m--> 326\u001b[0;31m                     \u001b[0mcvis\u001b[0m\u001b[0;34m[\u001b[0m\u001b[0mrow\u001b[0m\u001b[0;34m,\u001b[0m \u001b[0;34m:\u001b[0m\u001b[0;34m]\u001b[0m \u001b[0;34m=\u001b[0m \u001b[0mvis\u001b[0m\u001b[0;34m[\u001b[0m\u001b[0mitime\u001b[0m\u001b[0;34m,\u001b[0m \u001b[0ma2\u001b[0m\u001b[0;34m,\u001b[0m \u001b[0ma1\u001b[0m\u001b[0;34m,\u001b[0m \u001b[0mchan\u001b[0m\u001b[0;34m,\u001b[0m \u001b[0;34m:\u001b[0m\u001b[0;34m]\u001b[0m\u001b[0;34m\u001b[0m\u001b[0m\n\u001b[0m\u001b[1;32m    327\u001b[0m                     \u001b[0mcwts\u001b[0m\u001b[0;34m[\u001b[0m\u001b[0mrow\u001b[0m\u001b[0;34m,\u001b[0m \u001b[0;34m:\u001b[0m\u001b[0;34m]\u001b[0m \u001b[0;34m=\u001b[0m \u001b[0mwts\u001b[0m\u001b[0;34m[\u001b[0m\u001b[0mitime\u001b[0m\u001b[0;34m,\u001b[0m \u001b[0ma2\u001b[0m\u001b[0;34m,\u001b[0m \u001b[0ma1\u001b[0m\u001b[0;34m,\u001b[0m \u001b[0mchan\u001b[0m\u001b[0;34m,\u001b[0m \u001b[0;34m:\u001b[0m\u001b[0;34m]\u001b[0m\u001b[0;34m\u001b[0m\u001b[0m\n\u001b[1;32m    328\u001b[0m                     \u001b[0mrow\u001b[0m \u001b[0;34m+=\u001b[0m \u001b[0;36m1\u001b[0m\u001b[0;34m\u001b[0m\u001b[0m\n",
      "\u001b[0;31mKeyboardInterrupt\u001b[0m: "
     ]
    }
   ],
   "source": [
    "wprojection_planes = 1\n",
    "vis = convert_blockvisibility_to_visibility(blockvis)\n",
    "advice = advise_wide_field(vis, guard_band_image=2.0, delA=0.02)\n",
    "\n",
    "cellsize = advice['cellsize']\n",
    "vis_slices = advice['vis_slices']\n",
    "npixel = advice['npixels2']\n",
    "if npixel > 1024:\n",
    "    deconvolve_facets = 8\n",
    "    deconvolve_overlap = 32\n",
    "    deconvolve_taper = 'tukey'\n",
    "else:\n",
    "    deconvolve_facets = 1\n",
    "    deconvolve_overlap = 0\n",
    "    deconvolve_taper = 'tukey'"
   ]
  },
  {
   "cell_type": "markdown",
   "metadata": {},
   "source": [
    "### Generate the model from the GLEAM catalog, including application of the primary beam."
   ]
  },
  {
   "cell_type": "code",
   "execution_count": null,
   "metadata": {
    "ExecuteTime": {
     "end_time": "2018-12-10T10:15:53.210337Z",
     "start_time": "2018-12-10T10:15:23.973Z"
    },
    "scrolled": false
   },
   "outputs": [],
   "source": [
    "flux_limit=1.0\n",
    "beam = create_image_from_visibility(\n",
    "    blockvis,\n",
    "    npixel=npixel,\n",
    "    frequency=frequency,\n",
    "    nchan=nfreqwin,\n",
    "    cellsize=cellsize,\n",
    "    phasecentre=phasecentre)\n",
    "beam = create_low_test_beam(beam)\n",
    "\n",
    "original_gleam_components = create_low_test_skycomponents_from_gleam(\n",
    "    flux_limit=flux_limit,\n",
    "    phasecentre=phasecentre,\n",
    "    frequency=frequency,\n",
    "    polarisation_frame=PolarisationFrame('stokesI'),\n",
    "    radius=0.2)\n",
    "\n",
    "pb_gleam_components = apply_beam_to_skycomponent(original_gleam_components,\n",
    "                                                 beam)\n",
    "actual_components = filter_skycomponents_by_flux(\n",
    "    pb_gleam_components, flux_min=flux_limit)\n",
    "\n",
    "show_image(\n",
    "    beam,\n",
    "    components=actual_components,\n",
    "    cm='Greys',\n",
    "    title='Primary beam plus components')\n",
    "\n",
    "lprint(\"Number of components %d\" % len(actual_components))"
   ]
  },
  {
   "cell_type": "markdown",
   "metadata": {},
   "source": [
    "### We want each component to have a separate gaintable"
   ]
  },
  {
   "cell_type": "code",
   "execution_count": null,
   "metadata": {
    "ExecuteTime": {
     "end_time": "2018-12-10T10:15:53.212258Z",
     "start_time": "2018-12-10T10:15:23.975Z"
    },
    "scrolled": false
   },
   "outputs": [],
   "source": [
    "gleam_skymodel = SkyModel(components=actual_components)\n",
    "gleam_skymodel_expanded = expand_skymodel_by_skycomponents(gleam_skymodel)"
   ]
  },
  {
   "cell_type": "markdown",
   "metadata": {},
   "source": [
    "### Fill the gaintables from the ionospheric screen model"
   ]
  },
  {
   "cell_type": "code",
   "execution_count": null,
   "metadata": {
    "ExecuteTime": {
     "end_time": "2018-12-10T10:15:53.214032Z",
     "start_time": "2018-12-10T10:15:23.977Z"
    },
    "scrolled": true
   },
   "outputs": [],
   "source": [
    "screen = import_image_from_fits('low_screen_5000.0r0_0.100rate.fits')\n",
    "gaintables = create_gaintable_from_screen(\n",
    "    blockvis, gleam_skymodel.components, screen, scale=10.0)"
   ]
  },
  {
   "cell_type": "markdown",
   "metadata": {},
   "source": [
    "### Now insert the gaintables into the skymodel"
   ]
  },
  {
   "cell_type": "code",
   "execution_count": null,
   "metadata": {
    "ExecuteTime": {
     "end_time": "2018-12-10T10:15:53.215247Z",
     "start_time": "2018-12-10T10:15:23.979Z"
    }
   },
   "outputs": [],
   "source": [
    "for i, sm in enumerate(gleam_skymodel_expanded):\n",
    "    gleam_skymodel_expanded[i].gaintables = [gaintables[i]]"
   ]
  },
  {
   "cell_type": "code",
   "execution_count": null,
   "metadata": {
    "ExecuteTime": {
     "end_time": "2018-12-10T10:15:53.216186Z",
     "start_time": "2018-12-10T10:15:23.980Z"
    }
   },
   "outputs": [],
   "source": [
    "lprint(gleam_skymodel_expanded[0])"
   ]
  },
  {
   "cell_type": "markdown",
   "metadata": {},
   "source": [
    "### Now predict the visibility for each component and apply the gaintable, returning a list of visibilites, one for each component. We then sum these to obtain the total predicted visibility."
   ]
  },
  {
   "cell_type": "code",
   "execution_count": null,
   "metadata": {
    "ExecuteTime": {
     "end_time": "2018-12-10T10:15:53.217315Z",
     "start_time": "2018-12-10T10:15:23.982Z"
    },
    "scrolled": false
   },
   "outputs": [],
   "source": [
    "blockvis_list = [blockvis for i, b in enumerate(gleam_skymodel_expanded)]\n",
    "blockvis_list = arlexecute.scatter(blockvis_list)\n",
    "blockvis_list = predictcal_skymodel_list_arlexecute_workflow(\n",
    "    blockvis_list, gleam_skymodel_expanded, context='2d')\n",
    "blockvis_list = arlexecute.compute(blockvis_list, sync=True)\n",
    "total_blockvis = sum_visibility_over_partitions(blockvis_list)"
   ]
  },
  {
   "cell_type": "markdown",
   "metadata": {},
   "source": [
    "### Export visibility to HDF5"
   ]
  },
  {
   "cell_type": "code",
   "execution_count": null,
   "metadata": {
    "ExecuteTime": {
     "end_time": "2018-12-10T10:15:53.218414Z",
     "start_time": "2018-12-10T10:15:23.984Z"
    }
   },
   "outputs": [],
   "source": [
    "blockvis_h5 = export_blockvisibility_to_hdf5(blockvis_list, \n",
    "                                                   'low-sims-blockvis_list_rmax%.1f.hdf5' % rmax)\n",
    "total_blockvis_h5 = export_blockvisibility_to_hdf5(total_blockvis, \n",
    "                                                   'low-sims-total_blockvis_rmax%.1f.hdf5' % rmax)"
   ]
  },
  {
   "cell_type": "markdown",
   "metadata": {},
   "source": [
    "### Calculate the distorted image"
   ]
  },
  {
   "cell_type": "code",
   "execution_count": null,
   "metadata": {
    "ExecuteTime": {
     "end_time": "2018-12-10T10:15:53.219323Z",
     "start_time": "2018-12-10T10:15:23.986Z"
    },
    "scrolled": false
   },
   "outputs": [],
   "source": [
    "model = create_image_from_visibility(\n",
    "    blockvis,\n",
    "    npixel=npixel,\n",
    "    frequency=frequency,\n",
    "    nchan=nfreqwin,\n",
    "    cellsize=cellsize,\n",
    "    phasecentre=phasecentre)\n",
    "\n",
    "vis = convert_blockvisibility_to_visibility(total_blockvis)\n",
    "vis = weight_list_serial_workflow([vis], [model])[0]\n",
    "vis = taper_list_serial_workflow([vis], 0.003 * 750.0 / rmax)[0]\n",
    "\n",
    "model.data[...] =0.0\n",
    "vis_list = arlexecute.scatter([vis])\n",
    "model_list = arlexecute.scatter([model])\n",
    "\n",
    "cimg_list = continuum_imaging_list_arlexecute_workflow(\n",
    "    vis_list,\n",
    "    model_imagelist=model_list,\n",
    "    context='2d',\n",
    "    scales=[0, 3, 10],\n",
    "    algorithm='msclean',\n",
    "    niter=1000,\n",
    "    fractional_threshold=0.3,\n",
    "    threshold=0.01,\n",
    "    nmajor=10,\n",
    "    gain=0.25,\n",
    "    psf_support=128,\n",
    "    deconvolve_facets=deconvolve_facets,\n",
    "    deconvolve_overlap=deconvolve_overlap,\n",
    "    deconvolve_taper=deconvolve_taper)\n",
    "    \n",
    "cimg_deconvolved, cimg_residual, cimg_restored = arlexecute.compute(cimg_list, sync=True)\n",
    "\n"
   ]
  },
  {
   "cell_type": "code",
   "execution_count": null,
   "metadata": {
    "ExecuteTime": {
     "end_time": "2018-12-10T10:15:53.220137Z",
     "start_time": "2018-12-10T10:15:23.988Z"
    }
   },
   "outputs": [],
   "source": [
    "lprint(qa_image(cimg_restored[0]))\n",
    "show_image(\n",
    "    cimg_restored[0],\n",
    "    cm='Greys',\n",
    "    title='Distorted Image: rmax = %.1f' % rmax,\n",
    "    components=actual_components,\n",
    "    vmax=1.0,\n",
    "    vmin=-0.1)\n",
    "export_image_to_fits(cimg_restored[0],\n",
    "                     'low-sims-cimg_restored_rmax%.1f.fits' % rmax)\n",
    "plt.savefig('low-sims-cimg_restored_rmax%.1f.png' % rmax)\n",
    "plt.show()"
   ]
  },
  {
   "cell_type": "code",
   "execution_count": null,
   "metadata": {
    "ExecuteTime": {
     "end_time": "2018-12-10T10:15:53.220991Z",
     "start_time": "2018-12-10T10:15:23.989Z"
    }
   },
   "outputs": [],
   "source": [
    "controls = create_calibration_controls()\n",
    "\n",
    "controls['T']['first_selfcal'] = 1\n",
    "controls['T']['phase_only'] = True\n",
    "controls['T']['timescale'] = 'auto'"
   ]
  },
  {
   "cell_type": "code",
   "execution_count": null,
   "metadata": {
    "ExecuteTime": {
     "end_time": "2018-12-10T10:15:53.221843Z",
     "start_time": "2018-12-10T10:15:23.991Z"
    },
    "scrolled": false
   },
   "outputs": [],
   "source": [
    "model.data[...] =0.0\n",
    "vis_list = arlexecute.scatter([vis])\n",
    "model_list = arlexecute.scatter([model])\n",
    "\n",
    "ical_list = ical_list_arlexecute_workflow(\n",
    "    vis_list,\n",
    "    model_imagelist=model_list,\n",
    "    context='2d',\n",
    "    scales=[0, 3, 10],\n",
    "    algorithm='msclean',\n",
    "    niter=1000,\n",
    "    fractional_threshold=0.3,\n",
    "    threshold=0.1,\n",
    "    nmajor=10,\n",
    "    gain=0.25,\n",
    "    psf_support=128,\n",
    "    deconvolve_facets=deconvolve_facets,\n",
    "    deconvolve_overlap=deconvolve_overlap,\n",
    "    deconvolve_taper=deconvolve_taper,\n",
    "    timeslice='auto',\n",
    "    global_solution=False,\n",
    "    do_selfcal=True,\n",
    "    calibration_context='T',\n",
    "    controls=controls)\n",
    "    \n",
    "ical_deconvolved, ical_residual, ical_restored = arlexecute.compute(ical_list, sync=True)"
   ]
  },
  {
   "cell_type": "code",
   "execution_count": null,
   "metadata": {
    "ExecuteTime": {
     "end_time": "2018-12-10T10:15:53.222636Z",
     "start_time": "2018-12-10T10:15:23.993Z"
    },
    "scrolled": false
   },
   "outputs": [],
   "source": [
    "lprint(qa_image(ical_restored[0]))\n",
    "show_image(\n",
    "    ical_restored[0],\n",
    "    cm='Greys',\n",
    "    title='ICAL restored: rmax = %.1f' % rmax,\n",
    "    components=actual_components,\n",
    "    vmax=1.0,\n",
    "    vmin=-0.1)\n",
    "export_image_to_fits(ical_restored[0],\n",
    "                     'low-sims-ical_restored_rmax%.1f.fits' % rmax)\n",
    "plt.savefig('low-sims-ical_restored_rmax%.1f.png' % rmax)\n",
    "plt.show()"
   ]
  },
  {
   "cell_type": "code",
   "execution_count": null,
   "metadata": {
    "ExecuteTime": {
     "end_time": "2018-12-10T10:15:53.223573Z",
     "start_time": "2018-12-10T10:15:23.995Z"
    }
   },
   "outputs": [],
   "source": [
    "smodel = create_image_from_visibility(\n",
    "    blockvis,\n",
    "    npixel=npixel,\n",
    "    frequency=frequency,\n",
    "    nchan=nfreqwin,\n",
    "    cellsize=cellsize,\n",
    "    phasecentre=phasecentre)\n",
    "smodel = insert_skycomponent(smodel, actual_components)\n",
    "smodel = smooth_image(smodel, 1.75)\n",
    "lprint(qa_image(smodel))\n",
    "show_image(\n",
    "    smodel,\n",
    "    cm='Greys',\n",
    "    title='Smoothed model: rmax = %.1f' % rmax,\n",
    "    components=actual_components,\n",
    "    vmax=1.0,\n",
    "    vmin=-0.1)\n",
    "export_image_to_fits(smodel,\n",
    "                     'low-sims-smodel_rmax%.1f.fits' % rmax)\n",
    "plt.savefig('low-sims-smodel_rmax%.1f.png' % rmax)\n",
    "plt.show()"
   ]
  },
  {
   "cell_type": "code",
   "execution_count": null,
   "metadata": {
    "ExecuteTime": {
     "end_time": "2018-12-10T10:15:53.224941Z",
     "start_time": "2018-12-10T10:15:23.996Z"
    }
   },
   "outputs": [],
   "source": [
    "arlexecute.close()\n"
   ]
  }
 ],
 "metadata": {
  "kernelspec": {
   "display_name": "Python 3",
   "language": "python",
   "name": "python3"
  },
  "language_info": {
   "codemirror_mode": {
    "name": "ipython",
    "version": 3
   },
   "file_extension": ".py",
   "mimetype": "text/x-python",
   "name": "python",
   "nbconvert_exporter": "python",
   "pygments_lexer": "ipython3",
   "version": "3.6.1"
  }
 },
 "nbformat": 4,
 "nbformat_minor": 2
}
