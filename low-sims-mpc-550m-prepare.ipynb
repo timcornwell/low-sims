{
 "cells": [
  {
   "cell_type": "markdown",
   "metadata": {},
   "source": [
    "## Simulate non-isoplanatic imaging for LOW at 100MHz.\n",
    "\n",
    "### A set of model components are drawn from GLEAM. An ionospheric screen model is used to calculate the pierce points of the two stations in an interferometer for a given component. The model visibilities are calculated directly, and screen phase applied to obtain the corrupted visibility."
   ]
  },
  {
   "cell_type": "code",
   "execution_count": 1,
   "metadata": {
    "ExecuteTime": {
     "end_time": "2018-12-06T17:17:32.077998Z",
     "start_time": "2018-12-06T17:17:30.048167Z"
    },
    "scrolled": false
   },
   "outputs": [],
   "source": [
    "%matplotlib inline\n",
    "\n",
    "import sys\n",
    "\n",
    "from data_models.parameters import arl_path\n",
    "\n",
    "import numpy\n",
    "\n",
    "from astropy.coordinates import SkyCoord\n",
    "from astropy import units as u\n",
    "from astropy import constants as const\n",
    "from astropy.wcs.utils import pixel_to_skycoord\n",
    "\n",
    "from matplotlib import pyplot as plt\n",
    "from matplotlib import pylab as pylab\n",
    "\n",
    "from data_models.memory_data_models import SkyModel\n",
    "from data_models.polarisation import PolarisationFrame\n",
    "from data_models.data_model_helpers import export_blockvisibility_to_hdf5, export_skymodel_to_hdf5\n",
    "\n",
    "from processing_library.util.coordinate_support import simulate_point, skycoord_to_lmn\n",
    "\n",
    "from wrappers.serial.calibration.calibration_control import calibrate_function, create_calibration_controls\n",
    "from wrappers.serial.skycomponent.operations import find_skycomponents\n",
    "from wrappers.serial.visibility.base import create_blockvisibility, copy_visibility\n",
    "from processing_library.image.operations import copy_image\n",
    "from wrappers.serial.image.operations import show_image, qa_image\n",
    "from wrappers.serial.simulation.testing_support import create_named_configuration, \\\n",
    "    create_low_test_skycomponents_from_gleam, create_unittest_components\n",
    "from wrappers.serial.skycomponent.operations import filter_skycomponents_by_flux\n",
    "from wrappers.serial.simulation.mpc import create_gaintable_from_screen, sum_visibility_over_partitions\n",
    "\n",
    "from processing_components.simulation.mpc import expand_skymodel_by_skycomponents\n",
    "\n",
    "from wrappers.serial.imaging.primary_beams import create_low_test_beam\n",
    "from wrappers.serial.skycomponent.operations import apply_beam_to_skycomponent\n",
    "from wrappers.serial.imaging.base import create_image_from_visibility, advise_wide_field\n",
    "from wrappers.serial.image.operations import import_image_from_fits, export_image_to_fits\n",
    "from wrappers.arlexecute.visibility.coalesce import convert_blockvisibility_to_visibility\n",
    "from wrappers.arlexecute.skycomponent.operations import insert_skycomponent\n",
    "from wrappers.arlexecute.image.operations import smooth_image\n",
    "\n",
    "\n",
    "\n",
    "from workflows.arlexecute.pipelines.pipeline_arlexecute import continuum_imaging_list_arlexecute_workflow, \\\n",
    "    ical_list_arlexecute_workflow\n",
    "from workflows.arlexecute.skymodel.skymodel_arlexecute import predictcal_skymodel_list_arlexecute_workflow\n",
    "from workflows.serial.imaging.imaging_serial import invert_list_serial_workflow\n",
    "from workflows.serial.imaging.imaging_serial import weight_list_serial_workflow, taper_list_serial_workflow\n",
    "from workflows.serial.pipelines.pipeline_serial import continuum_imaging_list_serial_workflow, \\\n",
    "    ical_list_serial_workflow\n",
    "\n",
    "from data_models.data_model_helpers import export_blockvisibility_to_hdf5, export_skymodel_to_hdf5, export_gaintable_to_hdf5\n",
    "\n",
    "from wrappers.arlexecute.execution_support.arlexecute import arlexecute\n",
    "from wrappers.arlexecute.execution_support.dask_init import get_dask_Client\n",
    "\n"
   ]
  },
  {
   "cell_type": "code",
   "execution_count": 2,
   "metadata": {
    "ExecuteTime": {
     "end_time": "2018-12-06T17:17:32.088052Z",
     "start_time": "2018-12-06T17:17:32.079863Z"
    }
   },
   "outputs": [],
   "source": [
    "import logging\n",
    "def init_logging():\n",
    "    logging.basicConfig(filename='low-sims-mpc.log',\n",
    "                        filemode='a',\n",
    "                        format='%(asctime)s,%(msecs)d %(name)s %(levelname)s %(message)s',\n",
    "                        datefmt='%H:%M:%S',\n",
    "                        level=logging.DEBUG)\n",
    "\n",
    "init_logging()\n",
    "log = logging.getLogger()\n",
    "    \n",
    "def lprint(*args):\n",
    "    log.info(*args)\n",
    "    print(*args)"
   ]
  },
  {
   "cell_type": "code",
   "execution_count": 3,
   "metadata": {
    "ExecuteTime": {
     "end_time": "2018-12-06T17:17:32.093389Z",
     "start_time": "2018-12-06T17:17:32.090531Z"
    }
   },
   "outputs": [],
   "source": [
    "pylab.rcParams['figure.figsize'] = (14.0, 14.0)\n",
    "pylab.rcParams['image.cmap'] = 'rainbow'"
   ]
  },
  {
   "cell_type": "code",
   "execution_count": 4,
   "metadata": {
    "ExecuteTime": {
     "end_time": "2018-12-06T17:17:34.171062Z",
     "start_time": "2018-12-06T17:17:32.095662Z"
    }
   },
   "outputs": [
    {
     "name": "stderr",
     "output_type": "stream",
     "text": [
      "/Users/timcornwell/anaconda/envs/arlenv/lib/python3.6/site-packages/distributed/bokeh/core.py:55: UserWarning: \n",
      "Port 8787 is already in use. \n",
      "Perhaps you already have a cluster running?\n",
      "Hosting the diagnostics dashboard on a random port instead.\n",
      "  warnings.warn('\\n' + msg)\n"
     ]
    },
    {
     "name": "stdout",
     "output_type": "stream",
     "text": [
      "Creating LocalCluster and Dask Client\n",
      "Diagnostic pages available on port http://127.0.0.1:52539\n"
     ]
    },
    {
     "data": {
      "text/plain": [
       "{'tcp://127.0.0.1:52557': None}"
      ]
     },
     "execution_count": 4,
     "metadata": {},
     "output_type": "execute_result"
    }
   ],
   "source": [
    "c = get_dask_Client(\n",
    "    memory_limit=32 * 1024 * 1024 * 1024, threads_per_worker=8, n_workers=1)\n",
    "arlexecute.set_client(c)\n",
    "# Initialise logging on the workers. This appears to only work using the process scheduler.\n",
    "arlexecute.run(init_logging)"
   ]
  },
  {
   "cell_type": "markdown",
   "metadata": {},
   "source": [
    "### Set up the observation: 10 minutes at transit, with 10s integration."
   ]
  },
  {
   "cell_type": "code",
   "execution_count": 5,
   "metadata": {
    "ExecuteTime": {
     "end_time": "2018-12-06T17:17:39.029737Z",
     "start_time": "2018-12-06T17:17:34.174320Z"
    }
   },
   "outputs": [],
   "source": [
    "nfreqwin = 1\n",
    "ntimes = 61\n",
    "rmax = 550.0\n",
    "dec = -55.0 * u.deg\n",
    "frequency = numpy.linspace(1e8, 1.3e8, nfreqwin)\n",
    "if nfreqwin > 1:\n",
    "    channel_bandwidth = numpy.array(nfreqwin * [frequency[1] - frequency[0]])\n",
    "else:\n",
    "    channel_bandwidth = [0.3e8]\n",
    "times = numpy.linspace(-300, 300.0, ntimes) * numpy.pi / (3600.0 * 12.0)\n",
    "\n",
    "phasecentre = SkyCoord(ra=+0.0 * u.deg, dec=dec, frame='icrs', equinox='J2000')\n",
    "lowcore = create_named_configuration('LOWBD2', rmax=rmax)\n",
    "\n",
    "blockvis = create_blockvisibility(\n",
    "    lowcore,\n",
    "    times,\n",
    "    frequency=frequency,\n",
    "    channel_bandwidth=channel_bandwidth,\n",
    "    weight=1.0,\n",
    "    phasecentre=phasecentre,\n",
    "    polarisation_frame=PolarisationFrame(\"stokesI\"),\n",
    "    zerow=True)"
   ]
  },
  {
   "cell_type": "markdown",
   "metadata": {},
   "source": [
    "### Find sampling, image size, etc"
   ]
  },
  {
   "cell_type": "code",
   "execution_count": 6,
   "metadata": {
    "ExecuteTime": {
     "end_time": "2018-12-06T17:17:53.340306Z",
     "start_time": "2018-12-06T17:17:39.031877Z"
    },
    "scrolled": false
   },
   "outputs": [],
   "source": [
    "wprojection_planes = 1\n",
    "vis = convert_blockvisibility_to_visibility(blockvis)\n",
    "advice = advise_wide_field(vis, guard_band_image=2.0, delA=0.02)\n",
    "\n",
    "cellsize = advice['cellsize']\n",
    "vis_slices = advice['vis_slices']\n",
    "npixel = advice['npixels2']\n",
    "if npixel > 1024:\n",
    "    deconvolve_facets = 8\n",
    "    deconvolve_overlap = 32\n",
    "    deconvolve_taper = 'tukey'\n",
    "else:\n",
    "    deconvolve_facets = 1\n",
    "    deconvolve_overlap = 0\n",
    "    deconvolve_taper = 'tukey'"
   ]
  },
  {
   "cell_type": "markdown",
   "metadata": {},
   "source": [
    "### Generate the model from the GLEAM catalog, including application of the primary beam."
   ]
  },
  {
   "cell_type": "code",
   "execution_count": 7,
   "metadata": {
    "ExecuteTime": {
     "end_time": "2018-12-06T17:17:56.169151Z",
     "start_time": "2018-12-06T17:17:53.342933Z"
    },
    "scrolled": false
   },
   "outputs": [
    {
     "name": "stdout",
     "output_type": "stream",
     "text": [
      "Number of components 16\n"
     ]
    },
    {
     "data": {
      "image/png": "[encoded data removed]",
      "text/plain": [
       "<Figure size 1008x1008 with 2 Axes>"
      ]
     },
     "metadata": {},
     "output_type": "display_data"
    }
   ],
   "source": [
    "flux_limit=1.0\n",
    "beam = create_image_from_visibility(\n",
    "    blockvis,\n",
    "    npixel=npixel,\n",
    "    frequency=frequency,\n",
    "    nchan=nfreqwin,\n",
    "    cellsize=cellsize,\n",
    "    phasecentre=phasecentre)\n",
    "beam = create_low_test_beam(beam)\n",
    "\n",
    "original_gleam_components = create_low_test_skycomponents_from_gleam(\n",
    "    flux_limit=flux_limit,\n",
    "    phasecentre=phasecentre,\n",
    "    frequency=frequency,\n",
    "    polarisation_frame=PolarisationFrame('stokesI'),\n",
    "    radius=0.2)\n",
    "\n",
    "pb_gleam_components = apply_beam_to_skycomponent(original_gleam_components,\n",
    "                                                 beam)\n",
    "actual_components = filter_skycomponents_by_flux(\n",
    "    pb_gleam_components, flux_min=flux_limit)\n",
    "\n",
    "show_image(\n",
    "    beam,\n",
    "    components=actual_components,\n",
    "    cm='Greys',\n",
    "    title='Primary beam plus components')\n",
    "\n",
    "lprint(\"Number of components %d\" % len(actual_components))"
   ]
  },
  {
   "cell_type": "markdown",
   "metadata": {},
   "source": [
    "### We want each component to have a separate gaintable"
   ]
  },
  {
   "cell_type": "code",
   "execution_count": 8,
   "metadata": {
    "ExecuteTime": {
     "end_time": "2018-12-06T17:17:56.177030Z",
     "start_time": "2018-12-06T17:17:56.172232Z"
    },
    "scrolled": false
   },
   "outputs": [],
   "source": [
    "gleam_skymodel = SkyModel(components=actual_components)\n",
    "gleam_skymodel_expanded = expand_skymodel_by_skycomponents(gleam_skymodel)"
   ]
  },
  {
   "cell_type": "markdown",
   "metadata": {},
   "source": [
    "### Fill the gaintables from the ionospheric screen model"
   ]
  },
  {
   "cell_type": "code",
   "execution_count": 9,
   "metadata": {
    "ExecuteTime": {
     "end_time": "2018-12-06T17:18:30.382793Z",
     "start_time": "2018-12-06T17:17:56.179740Z"
    },
    "scrolled": true
   },
   "outputs": [],
   "source": [
    "screen = import_image_from_fits('low_screen_5000.0r0_0.100rate.fits')\n",
    "gaintables = create_gaintable_from_screen(\n",
    "    blockvis, gleam_skymodel.components, screen, scale=10.0)"
   ]
  },
  {
   "cell_type": "markdown",
   "metadata": {},
   "source": [
    "### Now insert the gaintables into the skymodel"
   ]
  },
  {
   "cell_type": "code",
   "execution_count": 10,
   "metadata": {
    "ExecuteTime": {
     "end_time": "2018-12-06T17:18:30.389300Z",
     "start_time": "2018-12-06T17:18:30.384541Z"
    }
   },
   "outputs": [],
   "source": [
    "for i, sm in enumerate(gleam_skymodel_expanded):\n",
    "    gleam_skymodel_expanded[i].gaintables = [gaintables[i]]"
   ]
  },
  {
   "cell_type": "code",
   "execution_count": 11,
   "metadata": {
    "ExecuteTime": {
     "end_time": "2018-12-06T17:18:30.400432Z",
     "start_time": "2018-12-06T17:18:30.391562Z"
    }
   },
   "outputs": [
    {
     "name": "stdout",
     "output_type": "stream",
     "text": [
      "SkyModel: fixed: False\n",
      "Skycomponent:\n",
      "\tName: GLEAM J234118-581606\n",
      "\tFlux: [[1.9333297]]\n",
      "\tFrequency: [1.e+08]\n",
      "\tDirection: <SkyCoord (ICRS): (ra, dec) in deg\n",
      "    (355.32681274, -58.26833344)>\n",
      "\tShape: Point\n",
      "\tParams: {}\n",
      "\tPolarisation frame: stokesI\n",
      "\n",
      "\n",
      "GainTable:\n",
      "\tTimes: 61\n",
      "\tData shape: (61,)\n",
      "\tReceptor frame: stokesI\n",
      "\n"
     ]
    }
   ],
   "source": [
    "lprint(gleam_skymodel_expanded[0])"
   ]
  },
  {
   "cell_type": "markdown",
   "metadata": {},
   "source": [
    "### Now predict the visibility for each component and apply the gaintable, returning a list of visibilites, one for each component. We then sum these to obtain the total predicted visibility."
   ]
  },
  {
   "cell_type": "code",
   "execution_count": 12,
   "metadata": {
    "ExecuteTime": {
     "end_time": "2018-12-06T17:19:08.982170Z",
     "start_time": "2018-12-06T17:18:30.403645Z"
    },
    "scrolled": false
   },
   "outputs": [
    {
     "name": "stdout",
     "output_type": "stream",
     "text": [
      "arlexecute.compute: Execution using Dask took 18.916 seconds\n"
     ]
    }
   ],
   "source": [
    "obsvis_list = [blockvis for i, b in enumerate(gleam_skymodel_expanded)]\n",
    "obsvis_list = arlexecute.scatter(obsvis_list)\n",
    "obsvis_list = predictcal_skymodel_list_arlexecute_workflow(\n",
    "    obsvis_list, gleam_skymodel_expanded, context='2d')\n",
    "obsvis_list = arlexecute.compute(obsvis_list, sync=True)\n",
    "obsvis = sum_visibility_over_partitions(obsvis_list)"
   ]
  },
  {
   "cell_type": "code",
   "execution_count": 14,
   "metadata": {
    "ExecuteTime": {
     "end_time": "2018-12-06T17:19:16.159336Z",
     "start_time": "2018-12-06T17:19:15.829166Z"
    }
   },
   "outputs": [],
   "source": [
    "skymodel_h5 = export_skymodel_to_hdf5(\n",
    "    gleam_skymodel, 'low-sims-original_skymodel_rmax%.1f.hdf5' % rmax)\n",
    "obsvis_h5 = export_blockvisibility_to_hdf5(\n",
    "    obsvis, 'low-sims-obs_blockvis_rmax%.1f.hdf5' % rmax)\n",
    "gaintables_h5 = export_gaintable_to_hdf5(\n",
    "    gaintables, 'low-sims-obs_gaintables_rmax%.1f.hdf5' % rmax)"
   ]
  },
  {
   "cell_type": "code",
   "execution_count": null,
   "metadata": {
    "ExecuteTime": {
     "end_time": "2018-12-06T17:19:09.001908Z",
     "start_time": "2018-12-06T17:17:30.045Z"
    }
   },
   "outputs": [],
   "source": [
    "def estep_p(bvp, bvobs, bvtotal):\n",
    "    bvr = copy_visibility(bvp)\n",
    "    bvr.data['vis'] = bvp.data['vis'] + (bvobs.data['vis'] - bvtotal.data['vis'])\n",
    "    return bvr"
   ]
  },
  {
   "cell_type": "code",
   "execution_count": null,
   "metadata": {
    "ExecuteTime": {
     "end_time": "2018-12-06T17:19:09.003676Z",
     "start_time": "2018-12-06T17:17:30.047Z"
    },
    "scrolled": true
   },
   "outputs": [],
   "source": [
    "arlexecute.close()\n"
   ]
  }
 ],
 "metadata": {
  "kernelspec": {
   "display_name": "Python 3",
   "language": "python",
   "name": "python3"
  },
  "language_info": {
   "codemirror_mode": {
    "name": "ipython",
    "version": 3
   },
   "file_extension": ".py",
   "mimetype": "text/x-python",
   "name": "python",
   "nbconvert_exporter": "python",
   "pygments_lexer": "ipython3",
   "version": "3.6.1"
  }
 },
 "nbformat": 4,
 "nbformat_minor": 2
}
