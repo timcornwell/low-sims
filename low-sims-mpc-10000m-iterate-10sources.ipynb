{
 "cells": [
  {
   "cell_type": "markdown",
   "metadata": {},
   "source": [
    "## Model partition calibration example"
   ]
  },
  {
   "cell_type": "code",
   "execution_count": null,
   "metadata": {
    "ExecuteTime": {
     "end_time": "2019-01-08T22:05:40.267364Z",
     "start_time": "2019-01-08T22:05:39.060490Z"
    },
    "scrolled": false
   },
   "outputs": [],
   "source": [
    "%matplotlib inline\n",
    "\n",
    "import sys\n",
    "\n",
    "from data_models.parameters import arl_path\n",
    "\n",
    "import numpy\n",
    "\n",
    "from astropy.coordinates import SkyCoord\n",
    "from astropy import units as u\n",
    "from astropy import constants as const\n",
    "from astropy.wcs.utils import pixel_to_skycoord\n",
    "\n",
    "from matplotlib import pyplot as plt\n",
    "from matplotlib import pylab as pylab\n",
    "\n",
    "from data_models.memory_data_models import SkyModel\n",
    "from data_models.polarisation import PolarisationFrame\n",
    "\n",
    "from processing_library.util.coordinate_support import simulate_point, skycoord_to_lmn\n",
    "\n",
    "from wrappers.serial.calibration.calibration_control import calibrate_function, create_calibration_controls\n",
    "from wrappers.serial.skycomponent.operations import find_skycomponents, partition_skycomponent_neighbours\n",
    "\n",
    "from wrappers.serial.visibility.base import create_blockvisibility, copy_visibility\n",
    "from processing_library.image.operations import copy_image\n",
    "from wrappers.serial.image.operations import show_image, qa_image\n",
    "from wrappers.serial.simulation.testing_support import create_named_configuration, \\\n",
    "    create_low_test_skycomponents_from_gleam, create_unittest_components\n",
    "from wrappers.serial.skycomponent.operations import filter_skycomponents_by_flux\n",
    "from wrappers.serial.simulation.mpc import create_gaintable_from_screen, sum_visibility_over_partitions, \\\n",
    "    calculate_sf_from_screen\n",
    "from wrappers.serial.skymodel.operations import show_skymodel\n",
    "\n",
    "from processing_components.simulation.mpc import expand_skymodel_by_skycomponents\n",
    "\n",
    "from wrappers.serial.imaging.primary_beams import create_low_test_beam\n",
    "from wrappers.serial.skycomponent.operations import apply_beam_to_skycomponent\n",
    "from wrappers.serial.imaging.base import create_image_from_visibility, advise_wide_field\n",
    "from wrappers.serial.image.operations import import_image_from_fits, export_image_to_fits\n",
    "\n",
    "from wrappers.arlexecute.visibility.coalesce import convert_blockvisibility_to_visibility\n",
    "from wrappers.arlexecute.skycomponent.operations import insert_skycomponent\n",
    "from wrappers.arlexecute.image.operations import smooth_image, show_components\n",
    "\n",
    "from workflows.arlexecute.pipelines.pipeline_arlexecute import continuum_imaging_list_arlexecute_workflow, \\\n",
    "    ical_list_arlexecute_workflow\n",
    "from workflows.serial.imaging.imaging_serial import invert_list_serial_workflow\n",
    "from workflows.serial.imaging.imaging_serial import weight_list_serial_workflow, taper_list_serial_workflow\n",
    "from workflows.serial.pipelines.pipeline_serial import continuum_imaging_list_serial_workflow, \\\n",
    "    ical_list_serial_workflow\n",
    "from data_models.data_model_helpers import import_skycomponent_from_hdf5, import_gaintable_from_hdf5\n",
    "\n",
    "from data_models.data_model_helpers import import_skymodel_from_hdf5\n",
    "from workflows.arlexecute.imaging.imaging_arlexecute import invert_list_arlexecute_workflow\n",
    "from workflows.arlexecute.skymodel.skymodel_arlexecute import predict_skymodel_list_arlexecute_workflow\n",
    "from workflows.arlexecute.skymodel.skymodel_arlexecute import extract_datamodels_skymodel_list_arlexecute_workflow\n",
    "from workflows.arlexecute.skymodel.skymodel_arlexecute import invert_skymodel_list_arlexecute_workflow\n",
    "from workflows.arlexecute.skymodel.skymodel_arlexecute import convolve_skymodel_list_arlexecute_workflow\n",
    "from workflows.arlexecute.skymodel.skymodel_arlexecute import calculate_skymodel_equivalent_image\n",
    "from workflows.arlexecute.skymodel.skymodel_arlexecute import update_skymodel_from_image\n",
    "from workflows.arlexecute.skymodel.skymodel_arlexecute import update_skymodel_from_gaintables\n",
    "from workflows.arlexecute.imaging.imaging_arlexecute import deconvolve_list_arlexecute_workflow\n",
    "from data_models.data_model_helpers import export_skymodel_to_hdf5\n",
    "from workflows.arlexecute.calibration.calibration_arlexecute import calibrate_list_arlexecute_workflow\n",
    "\n",
    "from data_models.data_model_helpers import import_blockvisibility_from_hdf5\n",
    "\n",
    "from wrappers.arlexecute.execution_support.arlexecute import arlexecute\n",
    "from wrappers.arlexecute.execution_support.dask_init import get_dask_Client"
   ]
  },
  {
   "cell_type": "code",
   "execution_count": null,
   "metadata": {
    "ExecuteTime": {
     "end_time": "2019-01-08T22:05:40.272150Z",
     "start_time": "2019-01-08T22:05:40.268940Z"
    }
   },
   "outputs": [],
   "source": [
    "import logging\n",
    "def init_logging():\n",
    "    logging.basicConfig(filename='results/low-sims-mpc.log',\n",
    "                        filemode='a',\n",
    "                        format='%(asctime)s,%(msecs)d %(name)s %(levelname)s %(message)s',\n",
    "                        datefmt='%H:%M:%S',\n",
    "                        level=logging.DEBUG)\n",
    "\n",
    "init_logging()\n",
    "log = logging.getLogger()\n",
    "    \n",
    "def lprint(*args):\n",
    "    log.info(*args)\n",
    "    print(*args)"
   ]
  },
  {
   "cell_type": "code",
   "execution_count": null,
   "metadata": {
    "ExecuteTime": {
     "end_time": "2019-01-08T22:05:40.427646Z",
     "start_time": "2019-01-08T22:05:40.273635Z"
    }
   },
   "outputs": [],
   "source": [
    "pylab.rcParams['figure.figsize'] = (14.0, 14.0)\n",
    "pylab.rcParams['image.cmap'] = 'rainbow'"
   ]
  },
  {
   "cell_type": "code",
   "execution_count": null,
   "metadata": {
    "ExecuteTime": {
     "end_time": "2019-01-08T22:05:42.650176Z",
     "start_time": "2019-01-08T22:05:40.430520Z"
    },
    "scrolled": false
   },
   "outputs": [],
   "source": [
    "c = get_dask_Client(memory_limit=48 * 1024 * 1024 * 1024, n_workers=16)\n",
    "arlexecute.set_client(c)\n",
    "arlexecute.run(init_logging)"
   ]
  },
  {
   "cell_type": "markdown",
   "metadata": {},
   "source": [
    "### Read the previously prepared observation"
   ]
  },
  {
   "cell_type": "code",
   "execution_count": null,
   "metadata": {
    "ExecuteTime": {
     "end_time": "2019-01-08T22:05:46.711366Z",
     "start_time": "2019-01-08T22:05:42.652753Z"
    }
   },
   "outputs": [],
   "source": [
    "blockvis = import_blockvisibility_from_hdf5('results/low-sims-skymodel-noniso-blockvis_rmax10000.0.hdf5')\n",
    "Vobs = convert_blockvisibility_to_visibility(blockvis)"
   ]
  },
  {
   "cell_type": "markdown",
   "metadata": {
    "ExecuteTime": {
     "end_time": "2019-01-04T14:02:36.740636Z",
     "start_time": "2019-01-04T14:02:36.736655Z"
    }
   },
   "source": [
    "### Initialization phase"
   ]
  },
  {
   "cell_type": "markdown",
   "metadata": {
    "ExecuteTime": {
     "end_time": "2019-01-06T14:52:04.418597Z",
     "start_time": "2019-01-06T14:52:04.415028Z"
    }
   },
   "source": [
    "#### Read the previous iteration of skymodels, $\\theta_p^{(n)}$. Each skymodel will contain a mask based on the decomposition, an image and gaintable derived from ICAL"
   ]
  },
  {
   "cell_type": "code",
   "execution_count": null,
   "metadata": {
    "ExecuteTime": {
     "end_time": "2019-01-09T05:07:30.479625Z",
     "start_time": "2019-01-08T22:05:46.712948Z"
    },
    "scrolled": false
   },
   "outputs": [],
   "source": [
    "nsources=10\n",
    "\n",
    "theta_list = import_skymodel_from_hdf5(\"results/mpc-skymodel_%dsources_iteration0.hdf5\" % (nsources))\n",
    "model = copy_image(theta_list[0].image)\n",
    "model.data[...] = 0.0\n",
    "\n",
    "psf_obs = invert_list_arlexecute_workflow([Vobs], [model], context='2d', dopsf=True)\n",
    "psf_obs = arlexecute.compute(psf_obs, sync=True)\n",
    "\n",
    "for iteration in range(1,10):\n",
    "\n",
    "    print('Iteration %d' % iteration)\n",
    "\n",
    "    future_Vobs = arlexecute.scatter(Vobs)\n",
    "    Vdatamodel_list = predict_skymodel_list_arlexecute_workflow(future_Vobs, theta_list, context='2d', docal=True)\n",
    "    Vdatamodel_list = extract_datamodels_skymodel_list_arlexecute_workflow(future_Vobs, Vdatamodel_list)\n",
    "    Vdatamodel_list = arlexecute.compute(Vdatamodel_list, sync=True)\n",
    "    \n",
    "\n",
    "    dirty_all_conv = convolve_skymodel_list_arlexecute_workflow(future_Vobs, theta_list, context='2d', docal=True)\n",
    "    dirty_all_conv = arlexecute.compute(dirty_all_conv, sync=True)    \n",
    "    dirty_all_cal = invert_skymodel_list_arlexecute_workflow(Vdatamodel_list, theta_list, context='2d', docal=True)\n",
    "    dirty_all_cal = arlexecute.compute(dirty_all_cal, sync=True)\n",
    "    \n",
    "    for i, d in enumerate(dirty_all_cal):\n",
    "        d[0].data -= dirty_all_conv[i][0].data\n",
    "        \n",
    "    peak = 0.0\n",
    "    combined_dirty_image=copy_image(model)\n",
    "    combined_dirty_image.data[...]=0.0\n",
    "    for i, d in enumerate(dirty_all_cal):\n",
    "        peak = max(peak, numpy.max(numpy.abs(d[0].data)))\n",
    "        print(i, numpy.max(numpy.abs(d[0].data)))\n",
    "        combined_dirty_image.data+=d[0].data\n",
    "    print(\"Peak residual :\", peak)\n",
    "    \n",
    "    for ism, sm in enumerate(theta_list):\n",
    "        deconvolved_list, _ = deconvolve_list_arlexecute_workflow([dirty_all_cal[ism]], [psf_obs[0]], \n",
    "                                                          [model], mask=sm.mask, algorithm='msclean',\n",
    "                                                              scales=[0,3,10],                                                          niter=100,\n",
    "                                                          fractional_threshold=0.3, threshold=0.3 * peak,\n",
    "                                                          gain=0.1, \n",
    "                                                          psf_support=128, deconvolve_facets=8,\n",
    "                                                             deconvolve_overlap=16,\n",
    "                                                             deconvolve_taper='tukey')\n",
    "\n",
    "        deconvolved_list = arlexecute.compute(deconvolved_list, sync=True)\n",
    "        print(qa_image(deconvolved_list[0], context='skymodel %d'%ism))\n",
    "        sm.image.data += sm.mask.data * deconvolved_list[0].data\n",
    "        \n",
    "    combined_model = calculate_skymodel_equivalent_image(theta_list)\n",
    "    print(qa_image(combined_model, context='Combined model'))\n",
    "    \n",
    "    Vpredicted_list = predict_skymodel_list_arlexecute_workflow(future_Vobs, theta_list, context='2d', docal=True)\n",
    "    result = calibrate_list_arlexecute_workflow(Vdatamodel_list, Vpredicted_list,\n",
    "                                            calibration_context='T',\n",
    "                                            iteration=0, global_solution=False)\n",
    "    Vcalibrated, gaintable_list = arlexecute.compute(result, sync=True)\n",
    "    \n",
    "    plt.clf()\n",
    "    for i in range(len(theta_list)):\n",
    "        plt.plot(numpy.angle(theta_list[i].gaintable.gain[:,:,0,0,0]).flatten(),\n",
    "                 numpy.angle(gaintable_list[i]['T'].gain[:,:,0,0,0]).flatten(), \n",
    "                 '.')\n",
    "    plt.xlabel('Current phase')\n",
    "    plt.ylabel('Update to phase')\n",
    "    plt.xlim([-numpy.pi, numpy.pi])\n",
    "    plt.ylim([-numpy.pi, numpy.pi])\n",
    "    plt.title(\"MPC %dsources iteration%d: Change in phase\" % (nsources, iteration))\n",
    "    plt.savefig(\"figures/mpc-skymodel-phase-change_%dsources_iteration%d.jpg\" % (nsources, iteration))\n",
    "    plt.show()\n",
    "    \n",
    "    theta_list = update_skymodel_from_gaintables(theta_list, gaintable_list, calibration_context='T') \n",
    "    \n",
    "    export_skymodel_to_hdf5(theta_list, \"results/mpc-skymodel_%dsources_iteration%d_rmax%.1f.hdf5' % (nsources, iteration, rmax))"
   ]
  },
  {
   "cell_type": "code",
   "execution_count": null,
   "metadata": {
    "ExecuteTime": {
     "end_time": "2019-01-09T08:48:14.937928Z",
     "start_time": "2019-01-09T08:48:14.829529Z"
    }
   },
   "outputs": [],
   "source": [
    "export_image_to_fits(combined_model, 'results/low-mpc_%dsources-deconvolved.fits' % nsources)"
   ]
  },
  {
   "cell_type": "code",
   "execution_count": null,
   "metadata": {
    "ExecuteTime": {
     "end_time": "2019-01-09T05:07:30.484957Z",
     "start_time": "2019-01-09T05:07:30.482169Z"
    }
   },
   "outputs": [],
   "source": [
    "from workflows.arlexecute.imaging.imaging_arlexecute import restore_list_arlexecute_workflow\n",
    "result=restore_list_arlexecute_workflow([combined_model], psf_obs, [(combined_dirty_image, 0.0)])"
   ]
  },
  {
   "cell_type": "code",
   "execution_count": null,
   "metadata": {
    "ExecuteTime": {
     "end_time": "2019-01-09T05:08:09.096296Z",
     "start_time": "2019-01-09T05:07:30.487053Z"
    }
   },
   "outputs": [],
   "source": [
    "result=arlexecute.compute(result, sync=True)"
   ]
  },
  {
   "cell_type": "code",
   "execution_count": null,
   "metadata": {
    "ExecuteTime": {
     "end_time": "2019-01-09T05:08:09.811255Z",
     "start_time": "2019-01-09T05:08:09.099354Z"
    }
   },
   "outputs": [],
   "source": [
    "print(qa_image(result[0], context='MPC restored image'))"
   ]
  },
  {
   "cell_type": "code",
   "execution_count": null,
   "metadata": {
    "ExecuteTime": {
     "end_time": "2019-01-09T08:45:40.157891Z",
     "start_time": "2019-01-09T08:45:38.755642Z"
    }
   },
   "outputs": [],
   "source": [
    "recovered_mpccal_components = find_skycomponents(result[0], fwhm=2, threshold=0.14, npixels=12)\n",
    "print(len(recovered_mpccal_components))\n",
    "print(recovered_mpccal_components[0])\n",
    "from data_models.data_model_helpers import export_skycomponent_to_hdf5\n",
    "export_skycomponent_to_hdf5(recovered_mpccal_components, 'results/low-mpc_%dsources-components.hdf5' % nsources)\n"
   ]
  },
  {
   "cell_type": "code",
   "execution_count": null,
   "metadata": {
    "ExecuteTime": {
     "end_time": "2019-01-09T08:40:38.602164Z",
     "start_time": "2019-01-09T08:40:37.084467Z"
    },
    "scrolled": false
   },
   "outputs": [],
   "source": [
    "show_image(result[0], vmax=0.3, vmin=-0.03, components=recovered_mpccal_components)\n",
    "export_image_to_fits(result[0], 'low-mpc_%dsources-restored.fits' % nsources)\n",
    "plt.show()"
   ]
  },
  {
   "cell_type": "code",
   "execution_count": null,
   "metadata": {
    "ExecuteTime": {
     "end_time": "2019-01-09T08:40:44.381399Z",
     "start_time": "2019-01-09T08:40:43.054163Z"
    },
    "scrolled": false
   },
   "outputs": [],
   "source": [
    "from data_models.data_model_helpers import import_skymodel_from_hdf5\n",
    "gleam_skymodel_iso=import_skymodel_from_hdf5('results/low-sims-mpc-iso_skymodel_rmax%.1f.hdf5' % rmax)\n",
    "from processing_components.skycomponent.operations import filter_skycomponents_by_flux\n",
    "bright_gleam=filter_skycomponents_by_flux(gleam_skymodel_iso.components, flux_min=0.4)\n",
    "def max_flux(elem):\n",
    "    return numpy.max(elem.flux)\n",
    "sorted_bright_gleam=sorted(bright_gleam, key=max_flux, reverse=True)\n",
    "\n",
    "from wrappers.serial.skycomponent.operations import find_skycomponent_matches\n",
    "matches = find_skycomponent_matches(recovered_mpccal_components, sorted_bright_gleam, tol=1e-3)\n",
    "x=list()\n",
    "y=list()\n",
    "dx=list()\n",
    "dy=list()\n",
    "for match in matches:\n",
    "    y.append(recovered_mpccal_components[match[0]].flux[0,0])\n",
    "    x.append(sorted_bright_gleam[match[1]].flux[0,0])\n",
    "    dx.append(recovered_mpccal_components[match[0]].direction.ra.rad-sorted_bright_gleam[match[1]].direction.ra.rad)\n",
    "    dy.append(recovered_mpccal_components[match[0]].direction.dec.rad-sorted_bright_gleam[match[1]].direction.dec.rad)\n",
    "        \n",
    "plt.clf()\n",
    "plt.plot(x, y, '.')\n",
    "plt.xlim([0.0, 5.0])\n",
    "plt.ylim([0.0, 5.0])\n",
    "plt.xlabel('Input component flux')\n",
    "plt.ylabel('Recovered component flux')\n",
    "plt.title('Non-isoplanatic MPC %d sources case: flux recovered' % nsources)\n",
    "plt.savefig('mpccal_noniso_%dsources_flux_errors.jpg' % nsources)\n",
    "plt.show()\n",
    "    \n",
    "plt.clf()\n",
    "plt.plot(dx, dy, '.')\n",
    "plt.xlim([-1e-3, 1e-3])\n",
    "plt.ylim([-1e-3, 1e-3])\n",
    "plt.xlabel('Error in RA (rad)')\n",
    "plt.ylabel('Error in Dec (rad)')\n",
    "plt.title('Non-isoplanatic MPC %d sources case: position error' % nsources)\n",
    "plt.savefig('mpccal_noniso_%dsources_position_errors.jpg' % nsources)\n",
    "plt.show()\n",
    "    "
   ]
  },
  {
   "cell_type": "code",
   "execution_count": null,
   "metadata": {
    "ExecuteTime": {
     "end_time": "2019-01-09T08:41:16.787959Z",
     "start_time": "2019-01-09T08:40:50.243091Z"
    }
   },
   "outputs": [],
   "source": [
    "oldscreen=import_image_from_fits('low_screen_5000.0r0_0.100rate.fits')\n",
    "from processing_components.simulation.ionospheric_screen import grid_gaintable_to_screen\n",
    "from processing_components.image.operations import create_empty_image_like\n",
    "newscreen = create_empty_image_like(oldscreen)\n",
    "gaintables = [th.gaintable for th in theta_list]\n",
    "newscreen, weights = newgrid_gaintable_to_screen(blockvis, gaintables, newscreen)\n",
    "print(qa_image(newscreen))\n",
    "export_image_to_fits(newscreen, 'mpccal_%dsources_screen.fits' % nsources)\n",
    "export_image_to_fits(weights, 'mpccal_%dsources_screen_weights.fits' % nsources)"
   ]
  },
  {
   "cell_type": "code",
   "execution_count": null,
   "metadata": {
    "ExecuteTime": {
     "end_time": "2019-01-09T05:09:05.436166Z",
     "start_time": "2019-01-09T05:09:05.431128Z"
    }
   },
   "outputs": [],
   "source": [
    "gaintables[0].gain"
   ]
  }
 ],
 "metadata": {
  "kernelspec": {
   "display_name": "Python 3",
   "language": "python",
   "name": "python3"
  },
  "language_info": {
   "codemirror_mode": {
    "name": "ipython",
    "version": 3
   },
   "file_extension": ".py",
   "mimetype": "text/x-python",
   "name": "python",
   "nbconvert_exporter": "python",
   "pygments_lexer": "ipython3",
   "version": "3.6.1"
  }
 },
 "nbformat": 4,
 "nbformat_minor": 2
}
