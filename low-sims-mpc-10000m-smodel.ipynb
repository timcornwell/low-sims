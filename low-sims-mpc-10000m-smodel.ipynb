{
 "cells": [
  {
   "cell_type": "markdown",
   "metadata": {},
   "source": [
    "## Simulate non-isoplanatic imaging for LOW at 100MHz.\n",
    "\n",
    "### A set of model components are drawn from GLEAM. An ionospheric screen model is used to calculate the pierce points of the two stations in an interferometer for a given component. The model visibilities are calculated directly, and screen phase applied to obtain the corrupted visibility."
   ]
  },
  {
   "cell_type": "code",
   "execution_count": 1,
   "metadata": {
    "ExecuteTime": {
     "end_time": "2019-01-02T11:23:21.951183Z",
     "start_time": "2019-01-02T11:23:19.689695Z"
    },
    "scrolled": false
   },
   "outputs": [],
   "source": [
    "%matplotlib inline\n",
    "\n",
    "import sys\n",
    "\n",
    "from data_models.parameters import arl_path\n",
    "\n",
    "import numpy\n",
    "\n",
    "from astropy.coordinates import SkyCoord\n",
    "from astropy import units as u\n",
    "from astropy import constants as const\n",
    "from astropy.wcs.utils import pixel_to_skycoord\n",
    "\n",
    "from matplotlib import pyplot as plt\n",
    "from matplotlib import pylab as pylab\n",
    "\n",
    "from data_models.memory_data_models import SkyModel\n",
    "from data_models.polarisation import PolarisationFrame\n",
    "\n",
    "from processing_library.util.coordinate_support import simulate_point, skycoord_to_lmn\n",
    "\n",
    "from wrappers.serial.calibration.calibration_control import calibrate_function, create_calibration_controls\n",
    "from wrappers.serial.skycomponent.operations import find_skycomponents, partition_skycomponent_neighbours\n",
    "\n",
    "from wrappers.serial.visibility.base import create_blockvisibility, copy_visibility\n",
    "from processing_library.image.operations import copy_image\n",
    "from wrappers.serial.image.operations import show_image, qa_image\n",
    "from wrappers.serial.simulation.testing_support import create_named_configuration, \\\n",
    "    create_low_test_skycomponents_from_gleam, create_unittest_components\n",
    "from wrappers.serial.skycomponent.operations import filter_skycomponents_by_flux\n",
    "from wrappers.serial.simulation.mpc import create_gaintable_from_screen, sum_visibility_over_partitions, \\\n",
    "    calculate_sf_from_screen\n",
    "from wrappers.serial.skymodel.operations import show_skymodel\n",
    "\n",
    "from processing_components.simulation.mpc import expand_skymodel_by_skycomponents\n",
    "\n",
    "from wrappers.serial.imaging.primary_beams import create_low_test_beam\n",
    "from wrappers.serial.skycomponent.operations import apply_beam_to_skycomponent\n",
    "from wrappers.serial.imaging.base import create_image_from_visibility, advise_wide_field\n",
    "from wrappers.serial.image.operations import import_image_from_fits, export_image_to_fits\n",
    "\n",
    "from wrappers.arlexecute.visibility.coalesce import convert_blockvisibility_to_visibility\n",
    "from wrappers.arlexecute.skycomponent.operations import insert_skycomponent\n",
    "from wrappers.arlexecute.image.operations import smooth_image\n",
    "\n",
    "from workflows.arlexecute.pipelines.pipeline_arlexecute import continuum_imaging_list_arlexecute_workflow, \\\n",
    "    ical_list_arlexecute_workflow\n",
    "from workflows.serial.imaging.imaging_serial import invert_list_serial_workflow\n",
    "from workflows.serial.imaging.imaging_serial import weight_list_serial_workflow, taper_list_serial_workflow\n",
    "from workflows.serial.pipelines.pipeline_serial import continuum_imaging_list_serial_workflow, \\\n",
    "    ical_list_serial_workflow\n",
    "\n",
    "from data_models.data_model_helpers import export_blockvisibility_to_hdf5\n",
    "\n",
    "from wrappers.arlexecute.execution_support.arlexecute import arlexecute\n",
    "from wrappers.arlexecute.execution_support.dask_init import get_dask_Client\n",
    "\n"
   ]
  },
  {
   "cell_type": "code",
   "execution_count": 2,
   "metadata": {
    "ExecuteTime": {
     "end_time": "2019-01-02T11:23:21.960040Z",
     "start_time": "2019-01-02T11:23:21.953119Z"
    }
   },
   "outputs": [],
   "source": [
    "import logging\n",
    "def init_logging():\n",
    "    logging.basicConfig(filename='results/low-sims-mpc-smodel.log',\n",
    "                        filemode='a',\n",
    "                        format='%(asctime)s,%(msecs)d %(name)s %(levelname)s %(message)s',\n",
    "                        datefmt='%H:%M:%S',\n",
    "                        level=logging.DEBUG)\n",
    "\n",
    "init_logging()\n",
    "log = logging.getLogger()\n",
    "    \n",
    "def lprint(*args):\n",
    "    log.info(*args)\n",
    "    print(*args)"
   ]
  },
  {
   "cell_type": "code",
   "execution_count": 3,
   "metadata": {
    "ExecuteTime": {
     "end_time": "2019-01-02T11:23:22.801701Z",
     "start_time": "2019-01-02T11:23:22.798322Z"
    }
   },
   "outputs": [],
   "source": [
    "pylab.rcParams['figure.figsize'] = (14.0, 14.0)\n",
    "pylab.rcParams['image.cmap'] = 'rainbow'"
   ]
  },
  {
   "cell_type": "code",
   "execution_count": 4,
   "metadata": {
    "ExecuteTime": {
     "end_time": "2019-01-02T11:23:38.650095Z",
     "start_time": "2019-01-02T11:23:24.137785Z"
    }
   },
   "outputs": [],
   "source": [
    "nfreqwin = 1\n",
    "ntimes = 61\n",
    "rmax = 10000.0\n",
    "dec = -40.0 * u.deg\n",
    "frequency = numpy.linspace(1e8, 1.3e8, nfreqwin)\n",
    "if nfreqwin > 1:\n",
    "    channel_bandwidth = numpy.array(nfreqwin * [frequency[1] - frequency[0]])\n",
    "else:\n",
    "    channel_bandwidth = [0.3e8]\n",
    "times = numpy.linspace(-300, 300.0, ntimes) * numpy.pi / (3600.0 * 12.0)\n",
    "\n",
    "phasecentre = SkyCoord(ra=+0.0 * u.deg, dec=dec, frame='icrs', equinox='J2000')\n",
    "lowcore = create_named_configuration('LOWBD2', rmax=rmax)\n",
    "\n",
    "blockvis = create_blockvisibility(\n",
    "    lowcore,\n",
    "    times,\n",
    "    frequency=frequency,\n",
    "    channel_bandwidth=channel_bandwidth,\n",
    "    weight=1.0,\n",
    "    phasecentre=phasecentre,\n",
    "    polarisation_frame=PolarisationFrame(\"stokesI\"),\n",
    "    zerow=True)"
   ]
  },
  {
   "cell_type": "markdown",
   "metadata": {},
   "source": [
    "### Find sampling, image size, etc"
   ]
  },
  {
   "cell_type": "code",
   "execution_count": 5,
   "metadata": {
    "ExecuteTime": {
     "end_time": "2019-01-02T11:24:33.011561Z",
     "start_time": "2019-01-02T11:23:38.653147Z"
    },
    "scrolled": false
   },
   "outputs": [],
   "source": [
    "wprojection_planes = 1\n",
    "vis = convert_blockvisibility_to_visibility(blockvis)\n",
    "advice = advise_wide_field(vis, guard_band_image=2.0, delA=0.02)\n",
    "\n",
    "cellsize = advice['cellsize']\n",
    "vis_slices = advice['vis_slices']\n",
    "npixel = advice['npixels2']\n",
    "if npixel > 1024:\n",
    "    deconvolve_facets = 8\n",
    "    deconvolve_overlap = 32\n",
    "    deconvolve_taper = 'tukey'\n",
    "else:\n",
    "    deconvolve_facets = 1\n",
    "    deconvolve_overlap = 0\n",
    "    deconvolve_taper = 'tukey'"
   ]
  },
  {
   "cell_type": "markdown",
   "metadata": {},
   "source": [
    "### Generate the model from the GLEAM catalog, including application of the primary beam."
   ]
  },
  {
   "cell_type": "code",
   "execution_count": 6,
   "metadata": {
    "ExecuteTime": {
     "end_time": "2019-01-02T11:24:55.023290Z",
     "start_time": "2019-01-02T11:24:33.013940Z"
    },
    "scrolled": false
   },
   "outputs": [],
   "source": [
    "flux_limit=0.2\n",
    "dft_threshold = 10.0\n",
    "beam = create_image_from_visibility(\n",
    "    blockvis,\n",
    "    npixel=npixel,\n",
    "    frequency=frequency,\n",
    "    nchan=nfreqwin,\n",
    "    cellsize=cellsize,\n",
    "    phasecentre=phasecentre)\n",
    "beam = create_low_test_beam(beam)\n",
    "\n",
    "original_gleam_components = create_low_test_skycomponents_from_gleam(\n",
    "    flux_limit=flux_limit,\n",
    "    phasecentre=phasecentre,\n",
    "    frequency=frequency,\n",
    "    polarisation_frame=PolarisationFrame('stokesI'),\n",
    "    radius=0.2)\n",
    "\n",
    "all_components = apply_beam_to_skycomponent(original_gleam_components,\n",
    "                                                 beam)\n",
    "\n",
    "all_components = filter_skycomponents_by_flux(all_components, flux_min=flux_limit)"
   ]
  },
  {
   "cell_type": "code",
   "execution_count": 7,
   "metadata": {
    "ExecuteTime": {
     "end_time": "2019-01-02T11:25:14.434203Z",
     "start_time": "2019-01-02T11:24:55.026148Z"
    },
    "scrolled": false
   },
   "outputs": [
    {
     "name": "stdout",
     "output_type": "stream",
     "text": [
      "Quality assessment:\n",
      "\tOrigin: qa_image\n",
      "\tContext: \n",
      "\tData:\n",
      "\t\tshape: '(1, 1, 4096, 4096)'\n",
      "\t\tmax: '4.883434121124295'\n",
      "\t\tmin: '0.0'\n",
      "\t\trms: '0.014243987727979864'\n",
      "\t\tsum: '5649.720590114917'\n",
      "\t\tmedianabs: '0.0'\n",
      "\t\tmedian: '0.0'\n",
      "\n"
     ]
    },
    {
     "data": {
      "image/png": "[encoded data removed]",
      "text/plain": [
       "<Figure size 1008x1008 with 2 Axes>"
      ]
     },
     "metadata": {
      "needs_background": "light"
     },
     "output_type": "display_data"
    }
   ],
   "source": [
    "smodel = create_image_from_visibility(\n",
    "    blockvis,\n",
    "    npixel=npixel,\n",
    "    frequency=frequency,\n",
    "    nchan=nfreqwin,\n",
    "    cellsize=cellsize,\n",
    "    phasecentre=phasecentre)\n",
    "smodel = insert_skycomponent(smodel, all_components)\n",
    "smodel = smooth_image(smodel, 3.0)\n",
    "lprint(qa_image(smodel))\n",
    "show_image(\n",
    "    smodel,\n",
    "    cm='Greys',\n",
    "    title='Smoothed model: rmax = %.1f' % rmax,\n",
    "    vmax=0.1, vmin=-0.01)\n",
    "\n",
    "export_image_to_fits(smodel,\n",
    "                     'results/low-sims-smodel_rmax%.1f.fits' % rmax)\n",
    "plt.savefig('figures/low-sims-smodel_rmax%.1f.png' % rmax)\n",
    "plt.show()"
   ]
  },
  {
   "cell_type": "code",
   "execution_count": null,
   "metadata": {},
   "outputs": [],
   "source": []
  }
 ],
 "metadata": {
  "kernelspec": {
   "display_name": "Python 3",
   "language": "python",
   "name": "python3"
  },
  "language_info": {
   "codemirror_mode": {
    "name": "ipython",
    "version": 3
   },
   "file_extension": ".py",
   "mimetype": "text/x-python",
   "name": "python",
   "nbconvert_exporter": "python",
   "pygments_lexer": "ipython3",
   "version": "3.6.1"
  }
 },
 "nbformat": 4,
 "nbformat_minor": 2
}
